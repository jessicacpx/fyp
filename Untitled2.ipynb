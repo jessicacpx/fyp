{
 "cells": [
  {
   "cell_type": "code",
   "execution_count": 1,
   "id": "6fd3b1ee-6310-4d53-99a3-0af7f1e45f5e",
   "metadata": {},
   "outputs": [],
   "source": [
    "import uproot"
   ]
  },
  {
   "cell_type": "code",
   "execution_count": 2,
   "id": "bd6dfc6c-3024-4aab-85fa-ba0357a2dd49",
   "metadata": {},
   "outputs": [],
   "source": [
    "import awkward as ak"
   ]
  },
  {
   "cell_type": "code",
   "execution_count": 3,
   "id": "62c26881-c924-4a6a-85ed-664946ba5e93",
   "metadata": {},
   "outputs": [],
   "source": [
    "import vector"
   ]
  },
  {
   "cell_type": "code",
   "execution_count": 4,
   "id": "39338d06-f942-43e8-819e-3d87a743ed05",
   "metadata": {},
   "outputs": [],
   "source": [
    "import time"
   ]
  },
  {
   "cell_type": "code",
   "execution_count": 5,
   "id": "97921c74-40cf-41bc-ad85-5f8884e61094",
   "metadata": {},
   "outputs": [],
   "source": [
    "import numpy as np"
   ]
  },
  {
   "cell_type": "code",
   "execution_count": 6,
   "id": "d3f4eadc-3a71-4d23-a5e2-23d7811eb89e",
   "metadata": {},
   "outputs": [],
   "source": [
    "import matplotlib.pyplot as plt"
   ]
  },
  {
   "cell_type": "code",
   "execution_count": 7,
   "id": "9d6133c3-02ab-47d4-bbae-e27319654a90",
   "metadata": {},
   "outputs": [],
   "source": [
    "import math"
   ]
  },
  {
   "cell_type": "code",
   "execution_count": 8,
   "id": "70609f5a-dbc1-49b9-af82-52c819f12f71",
   "metadata": {},
   "outputs": [],
   "source": [
    "from matplotlib.ticker import AutoMinorLocator"
   ]
  },
  {
   "cell_type": "code",
   "execution_count": 2,
   "id": "393f12e0-8b24-48a1-8f75-5b4f50c8c6eb",
   "metadata": {},
   "outputs": [],
   "source": [
    "import infofile"
   ]
  },
  {
   "cell_type": "code",
   "execution_count": 1,
   "id": "b6a8b520-fd58-45f7-ac45-81844c71c5bf",
   "metadata": {},
   "outputs": [],
   "source": [
    "lumi = 10 "
   ]
  },
  {
   "cell_type": "code",
   "execution_count": 2,
   "id": "2c4a2daf-0f6f-4cd9-8762-2402868de855",
   "metadata": {},
   "outputs": [],
   "source": [
    "fraction = 1.0"
   ]
  },
  {
   "cell_type": "code",
   "execution_count": 3,
   "id": "edeae08c-1e0c-4caf-a902-40497bbb7cd6",
   "metadata": {},
   "outputs": [],
   "source": [
    "tuple_path = \"https://atlas-opendata.web.cern.ch/atlas-opendata/samples/2020/4lep/\""
   ]
  },
  {
   "cell_type": "code",
   "execution_count": 1,
   "id": "6bcf7d8f-4c1c-4b8e-9dd8-38e4182a6d77",
   "metadata": {},
   "outputs": [],
   "source": [
    "sample = {\n",
    "    'data': {\n",
    "        'list' : ['data_A', 'data_B', 'data_C', 'data_D'],\n",
    "    },\n",
    "    \n",
    "    r'Background $Z,t\\bar{t}$' : { \n",
    "        'list' : ['Zee', 'Zmumu', 'ttbar_lep'],\n",
    "        'color' : \"#6b59d3\"\n",
    "    },\n",
    "    \n",
    "    r'Background $ZZ^*$' : {\n",
    "        'list' : ['llll'],\n",
    "        'color' : \"#ff0000\"\n",
    "    },\n",
    "    \n",
    "    r'Signal ($m_H$ = 125 GeV)' : {\n",
    "        'list' : ['ggH125_ZZ4lep','VBFH125_ZZ4lep','WH125_ZZ4lep', 'ZH125_ZZ4lep'],\n",
    "        'color' : \"#00cdff\"\n",
    "    },\n",
    "    \n",
    "}"
   ]
  },
  {
   "cell_type": "code",
   "execution_count": 2,
   "id": "fe5d9805-f5b3-4841-8048-53e589105fb5",
   "metadata": {},
   "outputs": [],
   "source": [
    "MeV = 0.001\n",
    "GeV = 1.0"
   ]
  },
  {
   "cell_type": "code",
   "execution_count": null,
   "id": "a9b443bb-26d6-46a8-b820-5cfc6a75d582",
   "metadata": {},
   "outputs": [],
   "source": []
  }
 ],
 "metadata": {
  "kernelspec": {
   "display_name": "Python 3 (ipykernel)",
   "language": "python",
   "name": "python3"
  },
  "language_info": {
   "codemirror_mode": {
    "name": "ipython",
    "version": 3
   },
   "file_extension": ".py",
   "mimetype": "text/x-python",
   "name": "python",
   "nbconvert_exporter": "python",
   "pygments_lexer": "ipython3",
   "version": "3.10.4"
  }
 },
 "nbformat": 4,
 "nbformat_minor": 5
}
